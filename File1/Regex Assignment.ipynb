{
 "cells": [
  {
   "cell_type": "markdown",
   "id": "0045102d",
   "metadata": {},
   "source": [
    "# 1st Question"
   ]
  },
  {
   "cell_type": "code",
   "execution_count": 91,
   "id": "b83aeb2b",
   "metadata": {},
   "outputs": [],
   "source": [
    "import regex as re"
   ]
  },
  {
   "cell_type": "code",
   "execution_count": 92,
   "id": "ce9b9ba4",
   "metadata": {},
   "outputs": [
    {
     "name": "stdout",
     "output_type": "stream",
     "text": [
      "Python:Exercises::PHP:exercises:\n"
     ]
    }
   ],
   "source": [
    "target_string = 'Python Exercises, PHP exercises.'\n",
    "pattern = r'\\s|,|\\.'\n",
    "result = re.sub(pattern,\":\",target_string)\n",
    "print(result)"
   ]
  },
  {
   "cell_type": "markdown",
   "id": "e368a695",
   "metadata": {},
   "source": [
    "# 2nd Question"
   ]
  },
  {
   "cell_type": "code",
   "execution_count": 93,
   "id": "5d04f0b8",
   "metadata": {},
   "outputs": [
    {
     "name": "stdout",
     "output_type": "stream",
     "text": [
      "['a', 'amazon', 'ajio', 'easy', 'and', 'efficient', 'also']\n"
     ]
    }
   ],
   "source": [
    "target_string = 'Nowadays searching for a product using amazon, ajio, flipkart is easy and its efficient also'\n",
    "pattern = r'\\ba\\w*|\\be\\w*'\n",
    "result = re.findall(pattern,target_string)\n",
    "print(result)"
   ]
  },
  {
   "cell_type": "markdown",
   "id": "40185256",
   "metadata": {},
   "source": [
    "# 3rd Question"
   ]
  },
  {
   "cell_type": "code",
   "execution_count": 94,
   "id": "cccaebce",
   "metadata": {},
   "outputs": [
    {
     "name": "stdout",
     "output_type": "stream",
     "text": [
      "['Nowadays', 'searching', 'product', 'using', 'amazon', 'ajio', 'flipkart', 'easy', 'efficient', 'also']\n"
     ]
    }
   ],
   "source": [
    "target_string = 'Nowadays searching for a product using amazon, ajio, flipkart is easy and its efficient also'\n",
    "Pattern_regex = re.compile(r'\\b\\w{4,}')\n",
    "def match():\n",
    "    result=Pattern_regex.findall(target_string)\n",
    "    print (result)\n",
    "    \n",
    "match()"
   ]
  },
  {
   "cell_type": "code",
   "execution_count": 95,
   "id": "bada6245",
   "metadata": {},
   "outputs": [
    {
     "name": "stdout",
     "output_type": "stream",
     "text": [
      "['Nowadays', 'searching', 'product', 'using', 'amazon', 'ajio', 'flipkart', 'easy', 'efficient', 'also']\n"
     ]
    }
   ],
   "source": [
    "match()"
   ]
  },
  {
   "cell_type": "markdown",
   "id": "05eb0bcd",
   "metadata": {},
   "source": [
    "# 4th Question"
   ]
  },
  {
   "cell_type": "code",
   "execution_count": 96,
   "id": "f546b231",
   "metadata": {},
   "outputs": [
    {
     "name": "stdout",
     "output_type": "stream",
     "text": [
      "['for', 'using', 'ajio', 'easy', 'and', 'its', 'also']\n"
     ]
    }
   ],
   "source": [
    "target_string = 'Nowadays searching for a product using amazon, ajio, flipkart is easy and its efficient also'\n",
    "Pattern_regex = re.compile(r'\\b\\w{3}\\b|\\b\\w{4}\\b|\\b\\w{5}\\b')\n",
    "def match():\n",
    "    result=re.findall(Pattern_regex, target_string)\n",
    "    print (result)\n",
    "    \n",
    "match()"
   ]
  },
  {
   "cell_type": "markdown",
   "id": "f7030f50",
   "metadata": {},
   "source": [
    "# 5th Question"
   ]
  },
  {
   "cell_type": "code",
   "execution_count": 97,
   "id": "08fe565f",
   "metadata": {},
   "outputs": [
    {
     "name": "stdout",
     "output_type": "stream",
     "text": [
      "example.com\n",
      "hr@fliprobo.com\n",
      "github.com\n",
      "Hello Data Science World\n",
      "Data Scientist\n"
     ]
    }
   ],
   "source": [
    "target_List = [\"example(.com)\", \"hr@fliprobo(.com)\", \"github(.com)\", \"Hello (Data Science World)\", \"Data (Scientist)\"]\n",
    "regex_pattern = re.compile(r'\\(|\\)')\n",
    "def remove():\n",
    "    for msg in target_List:\n",
    "        result = re.sub(regex_pattern, \"\", msg )\n",
    "        print(result)\n",
    "        \n",
    "remove()"
   ]
  },
  {
   "cell_type": "markdown",
   "id": "98858cb2",
   "metadata": {},
   "source": [
    "# 6th Question"
   ]
  },
  {
   "cell_type": "code",
   "execution_count": 98,
   "id": "4c4dc45f",
   "metadata": {},
   "outputs": [
    {
     "name": "stdout",
     "output_type": "stream",
     "text": [
      "[\"example\", \"hr@fliprobo\", \"github\", \"Hello\", \"Data\"]\n"
     ]
    }
   ],
   "source": [
    "with open (r\"C:\\Users\\SIVARAM RAJASEKARAN\\Desktop\\Python programs\\sample_1.txt\") as file:\n",
    "    for line in file:\n",
    "        result = re.sub(r'\\(\\.?[A-Za-z\\s]+\\)', \"\", line)\n",
    "        print(result)\n",
    "    "
   ]
  },
  {
   "cell_type": "markdown",
   "id": "f9dc3620",
   "metadata": {},
   "source": [
    "# 7th Question"
   ]
  },
  {
   "cell_type": "code",
   "execution_count": 99,
   "id": "dcb7b7f7",
   "metadata": {},
   "outputs": [
    {
     "name": "stdout",
     "output_type": "stream",
     "text": [
      "['Importance', 'Of', 'Regular', 'Expressions', 'In', 'Python']\n"
     ]
    }
   ],
   "source": [
    "target_text = \"ImportanceOfRegularExpressionsInPython\"\n",
    "pattern = r'[A-Z][a-z]*'\n",
    "result = re.findall(pattern,target_text)\n",
    "print(result)"
   ]
  },
  {
   "cell_type": "markdown",
   "id": "054f664c",
   "metadata": {},
   "source": [
    "# 8th Question"
   ]
  },
  {
   "cell_type": "code",
   "execution_count": 100,
   "id": "011daa30",
   "metadata": {},
   "outputs": [
    {
     "name": "stdout",
     "output_type": "stream",
     "text": [
      "RegularExpression 1IsAn 2ImportantTopic 3InPython\n"
     ]
    }
   ],
   "source": [
    "target = \"RegularExpression1IsAn2ImportantTopic3InPython\"\n",
    "pattern = r'([A-Za-z]+)(\\d)'\n",
    "result = re.sub(pattern, r'\\1 \\2', target)\n",
    "print(result)"
   ]
  },
  {
   "cell_type": "markdown",
   "id": "699b0d27",
   "metadata": {},
   "source": [
    "# 9th Question"
   ]
  },
  {
   "cell_type": "code",
   "execution_count": 101,
   "id": "33a6295b",
   "metadata": {},
   "outputs": [
    {
     "name": "stdout",
     "output_type": "stream",
     "text": [
      "RegularExpression 1 IsAn 2 ImportantTopic 3 InPython\n"
     ]
    }
   ],
   "source": [
    "target = \"RegularExpression1IsAn2ImportantTopic3InPython\"\n",
    "pattern = r'\\d'\n",
    "result = re.sub(pattern, lambda i: \" \"+ i[0] + \" \" , target)\n",
    "print(result)"
   ]
  },
  {
   "cell_type": "markdown",
   "id": "b3991230",
   "metadata": {},
   "source": [
    "# 10th Question"
   ]
  },
  {
   "cell_type": "code",
   "execution_count": 102,
   "id": "e6f96b52",
   "metadata": {},
   "outputs": [
    {
     "name": "stdout",
     "output_type": "stream",
     "text": [
      "['xyz@domain.com', 'xyz.abc@sdomain.domain.com']\n",
      "['hr@fliprobo.com']\n"
     ]
    }
   ],
   "source": [
    "with open (r\"C:\\Users\\SIVARAM RAJASEKARAN\\Desktop\\Python programs\\Sample_email.txt\") as file:\n",
    "    for line in file:\n",
    "        emails = re.findall(r'\\b[a-z]+@[a-z]+\\.[a-z]+\\b|\\b[a-z]+\\.[a-z]+@[a-z]+\\.[a-z]+\\.[a-z]+\\b', line)\n",
    "        print(emails)"
   ]
  },
  {
   "cell_type": "markdown",
   "id": "b582b762",
   "metadata": {},
   "source": [
    "# 11th Question"
   ]
  },
  {
   "cell_type": "code",
   "execution_count": 103,
   "id": "7364ce16",
   "metadata": {},
   "outputs": [
    {
     "data": {
      "text/plain": [
       "['Apples are Good',\n",
       " 'IboughtmangoesforRs_300for1kg',\n",
       " 'Ram bought dates for Rs.250',\n",
       " 'Dates are also good for health',\n",
       " 'SitaboughtOrangesforRs_500']"
      ]
     },
     "execution_count": 103,
     "metadata": {},
     "output_type": "execute_result"
    }
   ],
   "source": [
    "target_string = ['Apples are Good', 'IboughtmangoesforRs_300for1kg', 'Ram bought dates for Rs.250','Dates are also good for health',\"SitaboughtOrangesforRs_500\"]\n",
    "target_string\n"
   ]
  },
  {
   "cell_type": "code",
   "execution_count": 104,
   "id": "d9f56179",
   "metadata": {},
   "outputs": [
    {
     "name": "stdout",
     "output_type": "stream",
     "text": [
      "None\n",
      "<regex.Match object; span=(0, 29), match='IboughtmangoesforRs_300for1kg'>\n",
      "None\n",
      "None\n",
      "<regex.Match object; span=(0, 26), match='SitaboughtOrangesforRs_500'>\n"
     ]
    }
   ],
   "source": [
    "Pattern = r'^[A-Za-z0-9_]+$'\n",
    "for msgs in target_string:\n",
    "    result = re.match(Pattern, msgs)\n",
    "    print(result)\n",
    "    #print(result.group())"
   ]
  },
  {
   "cell_type": "markdown",
   "id": "0e22684f",
   "metadata": {},
   "source": [
    "# 12th Question"
   ]
  },
  {
   "cell_type": "code",
   "execution_count": 105,
   "id": "ae51cdf6",
   "metadata": {},
   "outputs": [
    {
     "data": {
      "text/plain": [
       "['789 is a good number',\n",
       " '23134abc is a alphanumeric value',\n",
       " '1857 was the revolt year']"
      ]
     },
     "execution_count": 105,
     "metadata": {},
     "output_type": "execute_result"
    }
   ],
   "source": [
    "target_String= ['789 is a good number', '23134abc is a alphanumeric value', '1857 was the revolt year']\n",
    "target_String"
   ]
  },
  {
   "cell_type": "code",
   "execution_count": 141,
   "id": "3023b79d",
   "metadata": {},
   "outputs": [
    {
     "name": "stdout",
     "output_type": "stream",
     "text": [
      "None\n",
      "<regex.Match object; span=(0, 32), match='23134abc is a alphanumeric value'>\n",
      "None\n"
     ]
    }
   ],
   "source": [
    "#match a string starts with specific number \"2\"\n",
    "Pattern = r'^2[\\w+\\s]*$'\n",
    "for msgs in target_String:\n",
    "    result = re.match(Pattern, msgs)\n",
    "    print(result)"
   ]
  },
  {
   "cell_type": "markdown",
   "id": "eaa18f78",
   "metadata": {},
   "source": [
    "# 13th Question"
   ]
  },
  {
   "cell_type": "code",
   "execution_count": 107,
   "id": "ce8e0300",
   "metadata": {},
   "outputs": [
    {
     "name": "stdout",
     "output_type": "stream",
     "text": [
      "123.83.71.89\n"
     ]
    }
   ],
   "source": [
    "target_ip_address = '123.0083.071.089'\n",
    "pattern = r'0'\n",
    "result = re.sub(pattern, \"\", target_ip_address)\n",
    "print(result)\n"
   ]
  },
  {
   "cell_type": "markdown",
   "id": "eca9e97e",
   "metadata": {},
   "source": [
    "# 14th Question"
   ]
  },
  {
   "cell_type": "code",
   "execution_count": 108,
   "id": "acf112ff",
   "metadata": {},
   "outputs": [
    {
     "data": {
      "text/plain": [
       "'On August 15th 1947 that India was declared independent from British colonialism, and the reins of control were handed over to the leaders of the Country'"
      ]
     },
     "execution_count": 108,
     "metadata": {},
     "output_type": "execute_result"
    }
   ],
   "source": [
    "target = \"On August 15th 1947 that India was declared independent from British colonialism, and the reins of control were handed over to the leaders of the Country\"\n",
    "target"
   ]
  },
  {
   "cell_type": "code",
   "execution_count": 109,
   "id": "28f18949",
   "metadata": {},
   "outputs": [
    {
     "name": "stdout",
     "output_type": "stream",
     "text": [
      "August 15th 1947\n"
     ]
    }
   ],
   "source": [
    "import regex as re\n",
    "target = \"On August 15th 1947 that India was declared independent from British colonialism, and the reins of control were handed over to the leaders of the Country\"\n",
    "#print(target)\n",
    "result = re.search(r'A[\\w\\s]*7', target)\n",
    "#print(result)\n",
    "print(result.group())"
   ]
  },
  {
   "cell_type": "code",
   "execution_count": 110,
   "id": "9098fe3c",
   "metadata": {},
   "outputs": [
    {
     "name": "stdout",
     "output_type": "stream",
     "text": [
      "August 15th 1947\n"
     ]
    }
   ],
   "source": [
    "with open(r\"C:\\Users\\SIVARAM RAJASEKARAN\\Desktop\\Python programs\\Month.txt\") as file:\n",
    "    for line in file:\n",
    "        result = re.search(r'A[\\w\\s]*7',line)\n",
    "        print(result.group())"
   ]
  },
  {
   "cell_type": "markdown",
   "id": "6a8c1e02",
   "metadata": {},
   "source": [
    "# 15th Question"
   ]
  },
  {
   "cell_type": "code",
   "execution_count": 111,
   "id": "33c373fa",
   "metadata": {},
   "outputs": [
    {
     "name": "stdout",
     "output_type": "stream",
     "text": [
      "<regex.Match object; span=(16, 19), match='fox'>\n",
      "<regex.Match object; span=(40, 43), match='dog'>\n",
      "None\n"
     ]
    }
   ],
   "source": [
    "Sample_text = 'The quick brown fox jumps over the lazy dog'\n",
    "search_words=['fox', 'dog', 'horse']\n",
    "for word in search_words:\n",
    "    result=re.search(word,Sample_text)\n",
    "    print(result)"
   ]
  },
  {
   "cell_type": "code",
   "execution_count": 112,
   "id": "ef5831e0",
   "metadata": {},
   "outputs": [
    {
     "name": "stdout",
     "output_type": "stream",
     "text": [
      "fox : Found\n",
      "dog : Found\n",
      "horse : Not Found\n"
     ]
    }
   ],
   "source": [
    "Sample_text = 'The quick brown fox jumps over the lazy dog'\n",
    "search_words=['fox', 'dog', 'horse']\n",
    "for word in search_words:\n",
    "    if re.search(word, Sample_text):\n",
    "        print(word+\" : Found\")\n",
    "    else:\n",
    "        print(word+\" : Not Found\")\n",
    "    \n",
    "    "
   ]
  },
  {
   "cell_type": "markdown",
   "id": "8ce117ee",
   "metadata": {},
   "source": [
    "# 16th Question"
   ]
  },
  {
   "cell_type": "code",
   "execution_count": 113,
   "id": "daf3286f",
   "metadata": {},
   "outputs": [
    {
     "name": "stdout",
     "output_type": "stream",
     "text": [
      "<regex.Match object; span=(16, 19), match='fox'>\n",
      "16\n",
      "19\n",
      "(16, 19)\n"
     ]
    }
   ],
   "source": [
    "Sample_text = 'The quick brown fox jumps over the lazy dog'\n",
    "pattern = 'fox'\n",
    "result = re.search(pattern, Sample_text)\n",
    "print(result)\n",
    "print(result.start())\n",
    "print(result.end())\n",
    "print(result.span())"
   ]
  },
  {
   "cell_type": "code",
   "execution_count": 114,
   "id": "b9c47b00",
   "metadata": {},
   "outputs": [
    {
     "name": "stdout",
     "output_type": "stream",
     "text": [
      "The pattern fox matched\n",
      "The Location of the pattern fox is  (16, 19)\n"
     ]
    }
   ],
   "source": [
    "text = 'The quick brown fox jumps over the lazy dog'\n",
    "pattern = 'fox'\n",
    "if re.search(pattern,text):\n",
    "    print(\"The pattern \"+pattern+\" matched\" )\n",
    "    s=re.search(pattern,text).span()\n",
    "    print(\"The Location of the pattern \"+pattern+\" is \",s)\n",
    "    \n",
    "    "
   ]
  },
  {
   "cell_type": "markdown",
   "id": "13f077f5",
   "metadata": {},
   "source": [
    "# 17th Question"
   ]
  },
  {
   "cell_type": "code",
   "execution_count": 115,
   "id": "06122a7c",
   "metadata": {},
   "outputs": [
    {
     "name": "stdout",
     "output_type": "stream",
     "text": [
      "['exercises', 'exercises', 'exercises']\n"
     ]
    }
   ],
   "source": [
    "text = 'Python exercises, PHP exercises, C# exercises'\n",
    "pattern = 'exercises'\n",
    "match = re.findall(pattern, text)\n",
    "print(match)"
   ]
  },
  {
   "cell_type": "code",
   "execution_count": 116,
   "id": "43f5739a",
   "metadata": {},
   "outputs": [
    {
     "name": "stdout",
     "output_type": "stream",
     "text": [
      "exercises\n",
      "exercises\n",
      "exercises\n"
     ]
    }
   ],
   "source": [
    "text = 'Python exercises, PHP exercises, C# exercises'\n",
    "pattern = 'exercises'\n",
    "for match in re.finditer(pattern,text):\n",
    "    print(match.group())\n"
   ]
  },
  {
   "cell_type": "markdown",
   "id": "4f12a33d",
   "metadata": {},
   "source": [
    "# 18th Question"
   ]
  },
  {
   "cell_type": "code",
   "execution_count": 117,
   "id": "5c628295",
   "metadata": {},
   "outputs": [
    {
     "name": "stdout",
     "output_type": "stream",
     "text": [
      "exercises\n",
      "Location of the substring is  (7, 16)\n",
      "exercises\n",
      "Location of the substring is  (22, 31)\n",
      "exercises\n",
      "Location of the substring is  (36, 45)\n"
     ]
    }
   ],
   "source": [
    "text = 'Python exercises, PHP exercises, C# exercises'\n",
    "string_pattern = re.compile('exercises')\n",
    "result=string_pattern.finditer(text)\n",
    "for match in result:\n",
    "    print(match.group())\n",
    "    print(\"Location of the substring is \",match.span())\n",
    "    "
   ]
  },
  {
   "cell_type": "code",
   "execution_count": 118,
   "id": "b6634f2b",
   "metadata": {},
   "outputs": [
    {
     "name": "stdout",
     "output_type": "stream",
     "text": [
      "exercises\n",
      "Location of the substring starts from 7  to  16\n",
      "exercises\n",
      "Location of the substring starts from 22  to  31\n",
      "exercises\n",
      "Location of the substring starts from 36  to  45\n"
     ]
    }
   ],
   "source": [
    "text = 'Python exercises, PHP exercises, C# exercises'\n",
    "string_pattern = re.compile('exercises')\n",
    "result=string_pattern.finditer(text)\n",
    "for match in result:\n",
    "    print(match.group())\n",
    "    start = match.start()\n",
    "    end = match.end()\n",
    "    print(\"Location of the substring starts from\",start,\" to \",end)"
   ]
  },
  {
   "cell_type": "markdown",
   "id": "e2979388",
   "metadata": {},
   "source": [
    "# 19th Question"
   ]
  },
  {
   "cell_type": "code",
   "execution_count": 119,
   "id": "f14c5e85",
   "metadata": {},
   "outputs": [
    {
     "name": "stdout",
     "output_type": "stream",
     "text": [
      "25-09-1996\n"
     ]
    }
   ],
   "source": [
    "Date = \"1996-09-25\"\n",
    "result = re.sub(r'(\\d{4})(-\\d{2}-)(\\d{2})', r'\\3\\2\\1', Date)\n",
    "print(result)"
   ]
  },
  {
   "cell_type": "code",
   "execution_count": 120,
   "id": "fa1c36ed",
   "metadata": {},
   "outputs": [],
   "source": [
    "def ConvertDateFormat():\n",
    "    x=input('Enter any Date')\n",
    "    result = re.sub(r'(\\d{4})(-\\d{2}-)(\\d{2})', r'\\3\\2\\1', x)\n",
    "    print(result)\n",
    "    "
   ]
  },
  {
   "cell_type": "code",
   "execution_count": 121,
   "id": "51c64f99",
   "metadata": {},
   "outputs": [
    {
     "name": "stdout",
     "output_type": "stream",
     "text": [
      "Enter any Date1991-11-19\n",
      "19-11-1991\n"
     ]
    }
   ],
   "source": [
    "ConvertDateFormat()"
   ]
  },
  {
   "cell_type": "markdown",
   "id": "a8a6a452",
   "metadata": {},
   "source": [
    "# 20th Question"
   ]
  },
  {
   "cell_type": "code",
   "execution_count": 122,
   "id": "8dd0a3da",
   "metadata": {},
   "outputs": [
    {
     "name": "stdout",
     "output_type": "stream",
     "text": [
      "['01.12', '145.8', '3.01', '27.25', '0.25']\n"
     ]
    }
   ],
   "source": [
    "target_string = \"01.12 0132.123 2.31875 145.8 3.01 27.25 0.25\"\n",
    "string_pattern = re.compile(r'\\b\\d{1,}\\.\\d{1}\\b|\\b\\d{1,}\\.\\d{2}\\b')\n",
    "result = string_pattern.findall(target_string)\n",
    "print(result)"
   ]
  },
  {
   "cell_type": "markdown",
   "id": "1e3396bd",
   "metadata": {},
   "source": [
    "# 21st Question"
   ]
  },
  {
   "cell_type": "code",
   "execution_count": 123,
   "id": "74a6145a",
   "metadata": {},
   "outputs": [
    {
     "name": "stdout",
     "output_type": "stream",
     "text": [
      "947\n",
      "The position of the number is  31\n",
      "The location of the number is  (31, 34)\n",
      "896\n",
      "The position of the number is  36\n",
      "The location of the number is  (36, 39)\n",
      "926\n",
      "The position of the number is  41\n",
      "The location of the number is  (41, 44)\n",
      "524\n",
      "The position of the number is  46\n",
      "The location of the number is  (46, 49)\n",
      "734\n",
      "The position of the number is  51\n",
      "The location of the number is  (51, 54)\n",
      "950\n",
      "The position of the number is  56\n",
      "The location of the number is  (56, 59)\n",
      "642\n",
      "The position of the number is  61\n",
      "The location of the number is  (61, 64)\n"
     ]
    }
   ],
   "source": [
    "sample_text = \"My marks in each semester are: 947, 896, 926, 524, 734, 950, 642\"\n",
    "pattern = r'\\b\\d{1,}\\b'\n",
    "match = re.finditer(pattern, sample_text)\n",
    "for num in match:\n",
    "    print(num.group())\n",
    "    print(\"The position of the number is \",num.start())\n",
    "    print(\"The location of the number is \",num.span())\n"
   ]
  },
  {
   "cell_type": "markdown",
   "id": "823309d2",
   "metadata": {},
   "source": [
    "# 22nd Question"
   ]
  },
  {
   "cell_type": "code",
   "execution_count": 124,
   "id": "81e0b464",
   "metadata": {},
   "outputs": [
    {
     "name": "stdout",
     "output_type": "stream",
     "text": [
      "['947', '896', '926', '524', '734', '950', '642']\n",
      "[947, 896, 926, 524, 734, 950, 642]\n",
      "The maximum number is :  950\n"
     ]
    }
   ],
   "source": [
    "sample_text = \"My marks in each semester are: 947, 896, 926, 524, 734, 950, 642\"\n",
    "pattern = r'\\d+'\n",
    "numbers = re.findall(pattern, sample_text)\n",
    "print(numbers)\n",
    "#converting string list to integer list\n",
    "new_list = list((map(int,numbers)))\n",
    "print(new_list)\n",
    "#finding maxmimum value\n",
    "print(\"The maximum number is : \",max(new_list))"
   ]
  },
  {
   "cell_type": "markdown",
   "id": "965460da",
   "metadata": {},
   "source": [
    "# 23rd Question"
   ]
  },
  {
   "cell_type": "code",
   "execution_count": 125,
   "id": "60aee479",
   "metadata": {},
   "outputs": [
    {
     "name": "stdout",
     "output_type": "stream",
     "text": [
      "['R', 'E', 'I', 'A', 'I', 'T', 'I', 'P']\n"
     ]
    }
   ],
   "source": [
    "text = \"RegularExpressionIsAnImportantTopicInPython\"\n",
    "pattern = r'([A-Z]{1})'\n",
    "result = re.findall(pattern, text)\n",
    "print(result)"
   ]
  },
  {
   "cell_type": "code",
   "execution_count": 126,
   "id": "8bc37fcf",
   "metadata": {},
   "outputs": [
    {
     "name": "stdout",
     "output_type": "stream",
     "text": [
      " Regular Expression Is An Important Topic In Python\n"
     ]
    }
   ],
   "source": [
    "Final_result = re.sub(pattern, r' \\1',text)\n",
    "print(Final_result)"
   ]
  },
  {
   "cell_type": "markdown",
   "id": "35c2ce81",
   "metadata": {},
   "source": [
    "# 24th Question"
   ]
  },
  {
   "cell_type": "code",
   "execution_count": 127,
   "id": "b12c21d8",
   "metadata": {},
   "outputs": [
    {
     "name": "stdout",
     "output_type": "stream",
     "text": [
      "['Python', 'Regex', 'One', 'Upper', 'Lower']\n"
     ]
    }
   ],
   "source": [
    "sample_text = \"Python Regex to find sequences of One Upper case letter followed by Lower case letters\"\n",
    "pattern = r'\\b[A-Z]{1}[a-z]+\\b'\n",
    "result = re.findall(pattern, sample_text)\n",
    "print(result)"
   ]
  },
  {
   "cell_type": "code",
   "execution_count": 128,
   "id": "11b11005",
   "metadata": {},
   "outputs": [],
   "source": [
    "def CaseCheck():\n",
    "    input_text = input(\"Enter any Sequence :\")\n",
    "    pattern = r'\\b[A-Z]{1}[a-z]+\\b'\n",
    "    if re.search(pattern,input_text):\n",
    "        print(input_text,\" : Matched\")\n",
    "    else:\n",
    "        print(input_text,\" : Not a Match\")"
   ]
  },
  {
   "cell_type": "code",
   "execution_count": 129,
   "id": "241cfa0d",
   "metadata": {},
   "outputs": [
    {
     "name": "stdout",
     "output_type": "stream",
     "text": [
      "Enter any Sequence :Regex\n",
      "Regex  : Matched\n"
     ]
    }
   ],
   "source": [
    "CaseCheck()"
   ]
  },
  {
   "cell_type": "markdown",
   "id": "2e308346",
   "metadata": {},
   "source": [
    "# 25th Question"
   ]
  },
  {
   "cell_type": "code",
   "execution_count": 130,
   "id": "2278ce74",
   "metadata": {},
   "outputs": [
    {
     "name": "stdout",
     "output_type": "stream",
     "text": [
      "Hello hello world\n"
     ]
    }
   ],
   "source": [
    "sample_text = \"Hello hello world world\"\n",
    "regex_pattern = r'\\b(\\w+)(\\W+\\1\\b)+'\n",
    "result = re.sub(regex_pattern, r'\\1', sample_text)\n",
    "print(result)"
   ]
  },
  {
   "cell_type": "markdown",
   "id": "7b317321",
   "metadata": {},
   "source": [
    "# 26th Question"
   ]
  },
  {
   "cell_type": "code",
   "execution_count": 131,
   "id": "86341a57",
   "metadata": {},
   "outputs": [],
   "source": [
    "def Aplhanumeric():\n",
    "    input_text = input(\"Enter any String : \")\n",
    "    pattern = r'[a-zA-Z0-9]$'\n",
    "    if re.search(pattern, input_text):\n",
    "        print(input_text,\" : Given string is accepted\")\n",
    "    else:\n",
    "        print(input_text,\" : Given string is NOT accepted\")"
   ]
  },
  {
   "cell_type": "code",
   "execution_count": 132,
   "id": "db6cb47e",
   "metadata": {},
   "outputs": [
    {
     "name": "stdout",
     "output_type": "stream",
     "text": [
      "Enter any String : Python is good\n",
      "Python is good  : Given string is accepted\n",
      "Enter any String : xyz123 is a alphanumeric\n",
      "xyz123 is a alphanumeric  : Given string is accepted\n",
      "Enter any String : ram bought apple for 12$\n",
      "ram bought apple for 12$  : Given string is NOT accepted\n"
     ]
    }
   ],
   "source": [
    "Aplhanumeric()\n",
    "Aplhanumeric()\n",
    "Aplhanumeric()"
   ]
  },
  {
   "cell_type": "markdown",
   "id": "3f23b176",
   "metadata": {},
   "source": [
    "# 27th Question"
   ]
  },
  {
   "cell_type": "code",
   "execution_count": 137,
   "id": "875d36a8",
   "metadata": {},
   "outputs": [
    {
     "name": "stdout",
     "output_type": "stream",
     "text": [
      "['#Doltiwal', '#xyzabc', '#Demonetization']\n"
     ]
    }
   ],
   "source": [
    "sample_text = \"\"\"\"\"RT @kapil_kausik: #Doltiwal I mean #xyzabc is \"hurt\" by #Demonetization as the same has rendered USELESS <ed><U+00A0><U+00BD><ed><U+00B1><U+0089> \"acquired funds\" No wo\"\"\"\n",
    "pattern = r'\\#[A-Za-z]+'\n",
    "result = re.findall(pattern, sample_text)\n",
    "print(result)"
   ]
  },
  {
   "cell_type": "markdown",
   "id": "f3c33058",
   "metadata": {},
   "source": [
    "# 28th Question"
   ]
  },
  {
   "cell_type": "code",
   "execution_count": 138,
   "id": "3f1cbc0a",
   "metadata": {},
   "outputs": [
    {
     "name": "stdout",
     "output_type": "stream",
     "text": [
      "@Jags123456 Bharat band on 28??<ed><ed>Those who  are protesting #demonetization  are all different party leaders\n"
     ]
    }
   ],
   "source": [
    "sample_text = \"@Jags123456 Bharat band on 28??<ed><U+00A0><U+00BD><ed><U+00B8><U+0082>Those who  are protesting #demonetization  are all different party leaders\"\n",
    "regex_pattern = r'\\<U\\+[0-9A-Z]*\\>'\n",
    "result = re.sub(regex_pattern, \"\", sample_text)\n",
    "print(result)"
   ]
  },
  {
   "cell_type": "markdown",
   "id": "e177646b",
   "metadata": {},
   "source": [
    "# 29th Question"
   ]
  },
  {
   "cell_type": "code",
   "execution_count": 139,
   "id": "fefaa496",
   "metadata": {},
   "outputs": [
    {
     "name": "stdout",
     "output_type": "stream",
     "text": [
      "['12-09-1992', '15-12-1999']\n"
     ]
    }
   ],
   "source": [
    "with open (r\"C:\\Users\\SIVARAM RAJASEKARAN\\Desktop\\Python programs\\Datefile.txt\") as file:\n",
    "    pattern = r'\\d{2}-\\d{2}-\\d{4}'\n",
    "    for line in file:\n",
    "        result = re.findall(pattern, line)\n",
    "        print(result)"
   ]
  },
  {
   "cell_type": "markdown",
   "id": "b7f53d9a",
   "metadata": {},
   "source": [
    "# 30th Question"
   ]
  },
  {
   "cell_type": "code",
   "execution_count": 140,
   "id": "818f7b48",
   "metadata": {},
   "outputs": [
    {
     "name": "stdout",
     "output_type": "stream",
     "text": [
      " following example creates  ArrayList  a capacity   elements. 4 elements   added   ArrayList   ArrayList  trimmed accordingly.\n"
     ]
    }
   ],
   "source": [
    "sample_text = \"The following example creates an ArrayList with a capacity of 50 elements. 4 elements are then added to the ArrayList and the ArrayList is trimmed accordingly.\"\n",
    "regex_pattern = r'\\b\\w{2}\\b|\\b\\w{3}\\b|\\b\\w{4}\\b'\n",
    "result = re.sub(regex_pattern, \"\", sample_text)\n",
    "print(result)"
   ]
  },
  {
   "cell_type": "markdown",
   "id": "5d8c508d",
   "metadata": {},
   "source": [
    "# ASSIGNMENT OVER"
   ]
  },
  {
   "cell_type": "code",
   "execution_count": null,
   "id": "e03db4b0",
   "metadata": {},
   "outputs": [],
   "source": []
  }
 ],
 "metadata": {
  "kernelspec": {
   "display_name": "Python 3 (ipykernel)",
   "language": "python",
   "name": "python3"
  },
  "language_info": {
   "codemirror_mode": {
    "name": "ipython",
    "version": 3
   },
   "file_extension": ".py",
   "mimetype": "text/x-python",
   "name": "python",
   "nbconvert_exporter": "python",
   "pygments_lexer": "ipython3",
   "version": "3.11.4"
  }
 },
 "nbformat": 4,
 "nbformat_minor": 5
}
